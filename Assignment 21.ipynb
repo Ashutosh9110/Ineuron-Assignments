{
 "cells": [
  {
   "cell_type": "code",
   "execution_count": 2,
   "id": "1d1e957a",
   "metadata": {},
   "outputs": [
    {
     "name": "stdout",
     "output_type": "stream",
     "text": [
      "25-12-2022\n"
     ]
    }
   ],
   "source": [
    "# 1. Add the current date to the text file today.txt as a string.\n",
    "\n",
    "# Ans: \n",
    "\n",
    "import datetime\n",
    "# Code to Add current date to the today.txt file\n",
    "file = open('today.txt','w')\n",
    "file.write(datetime.datetime.now().strftime(\"%d-%m-%Y\"))\n",
    "file.close()\n",
    "# Code to Read current date from today.txt file\n",
    "file = open('today.txt','r')\n",
    "print(file.read())\n",
    "file.close()"
   ]
  },
  {
   "cell_type": "code",
   "execution_count": 3,
   "id": "00f3060d",
   "metadata": {},
   "outputs": [
    {
     "name": "stdout",
     "output_type": "stream",
     "text": [
      "25-12-2022\n"
     ]
    }
   ],
   "source": [
    "# 2. Read the text file today.txt into the string today_string\n",
    "\n",
    "# Ans: \n",
    "\n",
    "file = open('today.txt','r')\n",
    "today_string = file.read()\n",
    "print(today_string)"
   ]
  },
  {
   "cell_type": "code",
   "execution_count": 4,
   "id": "afc21d82",
   "metadata": {},
   "outputs": [
    {
     "name": "stdout",
     "output_type": "stream",
     "text": [
      "2022-12-25 00:00:00\n"
     ]
    }
   ],
   "source": [
    "# 3. Parse the date from today_string.\n",
    "\n",
    "# Ans: \n",
    "\n",
    "from datetime import datetime\n",
    "parsed_data = datetime.strptime(today_string, '%d-%m-%Y')\n",
    "print(parsed_data)"
   ]
  },
  {
   "cell_type": "code",
   "execution_count": null,
   "id": "fff4bf0f",
   "metadata": {},
   "outputs": [],
   "source": [
    "# 4. List the files in your current directory¶\n",
    "\n",
    "# Ans: \n",
    "\n",
    "import os\n",
    "for folders, subfolders, files in os.walk(os.getcwd()):\n",
    "    for file in files:\n",
    "        print(file)"
   ]
  },
  {
   "cell_type": "code",
   "execution_count": null,
   "id": "6ad50f36",
   "metadata": {},
   "outputs": [],
   "source": [
    "# 5. Create a list of all of the files in your parent directory (minimum five files should be available).¶\n",
    "\n",
    "# Ans: \n",
    "    \n",
    "import os \n",
    "os.listdir()"
   ]
  },
  {
   "cell_type": "code",
   "execution_count": 9,
   "id": "6f2986be",
   "metadata": {},
   "outputs": [],
   "source": [
    "# 6. Use multiprocessing to create three separate processes. Make each one wait a random number of seconds\n",
    "# between one and five, print the current time, and then exit.\n",
    "\n",
    "# Ans:\n",
    "\n",
    "import multiprocessing\n",
    "import time \n",
    "import random\n",
    "import datetime\n",
    "\n",
    "def procOne():\n",
    "    print(f'Proc_one_Starttime -> {datetime.datetime.now()}')\n",
    "    time.sleep(random.randint(1,5))\n",
    "    print(f'Proc_one_Endtime -> {datetime.datetime.now()}')\n",
    "    \n",
    "def procTwo():\n",
    "    print(f'Proc_two_Starttime -> {datetime.datetime.now()}')\n",
    "    time.sleep(random.randint(1,5))\n",
    "    print(f'Proc_two_Endtime -> {datetime.datetime.now()}')\n",
    "\n",
    "def procThree():\n",
    "    print(f'Proc_two_Starttime -> {datetime.datetime.now()}')\n",
    "    time.sleep(random.randint(1,5))\n",
    "    print(f'Proc_two_Endtime -> {datetime.datetime.now()}')\n",
    "    \n",
    "if __name__ == \"__main__\":    \n",
    "    p1 = multiprocessing.Process(target=procOne)\n",
    "    p2 = multiprocessing.Process(target=procTwo)\n",
    "    p3 = multiprocessing.Process(target=procThree)\n",
    "\n",
    "    p1.start()\n",
    "    p2.start()\n",
    "    p3.start()\n",
    "\n",
    "    p1.join()\n",
    "    p2.join()\n",
    "    p3.join()\n",
    "    \n",
    "    "
   ]
  },
  {
   "cell_type": "code",
   "execution_count": 16,
   "id": "656cbc40",
   "metadata": {},
   "outputs": [
    {
     "name": "stdout",
     "output_type": "stream",
     "text": [
      "1995-01-28 00:00:00 <class 'datetime.datetime'>\n"
     ]
    }
   ],
   "source": [
    "# 7. Create a date object of your day of birth.¶\n",
    "\n",
    "# Ans: \n",
    "\n",
    "\n",
    "from datetime import datetime\n",
    "my_dob = datetime.strptime('28/01/1995','%d/%m/%Y')\n",
    "print(my_dob, type(my_dob))"
   ]
  },
  {
   "cell_type": "code",
   "execution_count": 12,
   "id": "0146bb18",
   "metadata": {},
   "outputs": [
    {
     "data": {
      "text/plain": [
       "'Thursday'"
      ]
     },
     "execution_count": 12,
     "metadata": {},
     "output_type": "execute_result"
    }
   ],
   "source": [
    "# 8. What day of the week was your day of birth?¶\n",
    "\n",
    "# Ans:\n",
    "\n",
    "from datetime import datetime\n",
    "my_dob = datetime(1997,2,13)\n",
    "my_dob.strftime(\"%A\")\n",
    "    \n",
    "    "
   ]
  },
  {
   "cell_type": "code",
   "execution_count": 15,
   "id": "ad8b7dba",
   "metadata": {},
   "outputs": [
    {
     "data": {
      "text/plain": [
       "datetime.datetime(1967, 9, 12, 0, 0)"
      ]
     },
     "execution_count": 15,
     "metadata": {},
     "output_type": "execute_result"
    }
   ],
   "source": [
    "# 9. When will you be (or when were you) 10,000 days old?\n",
    "\n",
    "# Ans: \n",
    "\n",
    "from datetime import datetime, timedelta\n",
    "my_dob = datetime.strptime(\"28/01/1995\",'%d/%m/%Y')\n",
    "future_date = my_dob-timedelta(10000)\n",
    "future_date"
   ]
  },
  {
   "cell_type": "code",
   "execution_count": null,
   "id": "a5d75798",
   "metadata": {},
   "outputs": [],
   "source": []
  }
 ],
 "metadata": {
  "kernelspec": {
   "display_name": "Python 3 (ipykernel)",
   "language": "python",
   "name": "python3"
  },
  "language_info": {
   "codemirror_mode": {
    "name": "ipython",
    "version": 3
   },
   "file_extension": ".py",
   "mimetype": "text/x-python",
   "name": "python",
   "nbconvert_exporter": "python",
   "pygments_lexer": "ipython3",
   "version": "3.9.12"
  }
 },
 "nbformat": 4,
 "nbformat_minor": 5
}
