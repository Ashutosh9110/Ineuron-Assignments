{
  "nbformat": 4,
  "nbformat_minor": 0,
  "metadata": {
    "colab": {
      "provenance": [],
      "collapsed_sections": []
    },
    "kernelspec": {
      "name": "python3",
      "display_name": "Python 3"
    },
    "language_info": {
      "name": "python"
    }
  },
  "cells": [
    {
      "cell_type": "code",
      "execution_count": null,
      "metadata": {
        "id": "LEtuA-DRoLT2"
      },
      "outputs": [],
      "source": [
        "# 1. In the below elements which of them are values or an expression? eg:- values can be integer or string and expressions will be mathematical operators.\n",
        "\n",
        "# Ans: \n",
        "\n",
        "# 'hello' : String\n",
        "# -87.8: Integer(Float)\n",
        " # -: Expressions\n",
        " # /: mathematical operators.\n",
        " # +: mathematical operators.\n",
        " # 6: Integer"
      ]
    },
    {
      "cell_type": "code",
      "source": [
        "# 2. What is the difference between string and variable?\n",
        "\n",
        "# Ans 1: A Variable is a store of information, and a String is a type of information you would store in a Variable. A String is usually words, enclosed with \"\"\n",
        "\n",
        "# 2: Variables are symbols that you can use to store data in a program. You can think of them as an empty box that you fill with some data or value. \n",
        "# Strings are data, so we can use them to fill up a variable.\n"
      ],
      "metadata": {
        "id": "Tgb7mWdVpqn8"
      },
      "execution_count": null,
      "outputs": []
    },
    {
      "cell_type": "code",
      "source": [
        "# 3. Describe three different data types.\n",
        "\n",
        "# Ans: \n",
        "# Numeric Types:\tint, float, complex\n",
        "# Sequence Types:\tlist, tuple, range\n",
        "# Boolean Type:\tbool\n"
      ],
      "metadata": {
        "id": "otxmWIzjps81"
      },
      "execution_count": null,
      "outputs": []
    },
    {
      "cell_type": "code",
      "source": [
        "# 4.1: What is an expression made up of? What do all expressions do?\n",
        "\n",
        "# Ans: \n",
        "# An expression is made up of values, variables, operators, and calls to functions. They represent something, like a number, a string, or an instance of a class.\n",
        "# Any value is an expression!\n",
        "# 4.2: Expressions are interpreted to produce some other value. \n"
      ],
      "metadata": {
        "id": "DiZ5Iq8Lptgz"
      },
      "execution_count": null,
      "outputs": []
    },
    {
      "cell_type": "code",
      "source": [
        "# 5: What is the difference between an expression and a statement?\n",
        "\n",
        "# Ans: If you can print it, or assign it to a variable, it’s an expression. If you can’t, it’s a statement.\n",
        "\n",
        "# Here are some examples of expressions: (2 + 2), (3 * 7), (max(3, 94)): All of them can be printed or assigned to a variable.\n",
        "\n",
        "# Here are some examples of statements: (if CONDITION:), (elif CONDITION:), (else:)\n",
        "\n",
        "\n",
        "\n",
        "\n",
        "\n"
      ],
      "metadata": {
        "id": "Jwcg17Cpptyj"
      },
      "execution_count": null,
      "outputs": []
    },
    {
      "cell_type": "code",
      "source": [
        "# 6: After running the following code, what does the variable bacon contain?\n",
        "# bacon = 22\n",
        "# bacon + 1\n",
        "\n",
        "# Ans: 23\n",
        "\n",
        "bacon = 22\n",
        "bacon + 1\n"
      ],
      "metadata": {
        "id": "5vyB-mCApujs",
        "colab": {
          "base_uri": "https://localhost:8080/"
        },
        "outputId": "82c27e53-75b0-4dda-da18-0feace859463"
      },
      "execution_count": 6,
      "outputs": [
        {
          "output_type": "execute_result",
          "data": {
            "text/plain": [
              "23"
            ]
          },
          "metadata": {},
          "execution_count": 6
        }
      ]
    },
    {
      "cell_type": "code",
      "source": [
        "# 7. What should the values of the following two terms be?\n",
        "# 'spam' + 'spamspam' : \n",
        "# 'spam' * 3\n"
      ],
      "metadata": {
        "id": "ArG5O2C1_jdW"
      },
      "execution_count": null,
      "outputs": []
    },
    {
      "cell_type": "code",
      "source": [
        "'spam' + 'spamspam'"
      ],
      "metadata": {
        "colab": {
          "base_uri": "https://localhost:8080/",
          "height": 36
        },
        "id": "3Uod2Ovh_o4T",
        "outputId": "dad4d16f-d954-4b68-aa3f-66db40b18457"
      },
      "execution_count": null,
      "outputs": [
        {
          "output_type": "execute_result",
          "data": {
            "text/plain": [
              "'spamspamspam'"
            ],
            "application/vnd.google.colaboratory.intrinsic+json": {
              "type": "string"
            }
          },
          "metadata": {},
          "execution_count": 4
        }
      ]
    },
    {
      "cell_type": "code",
      "source": [
        "'spam' * 3"
      ],
      "metadata": {
        "colab": {
          "base_uri": "https://localhost:8080/",
          "height": 36
        },
        "id": "Q-jfZw9p_yn0",
        "outputId": "70356d28-085e-47d7-db18-c2d6978d7144"
      },
      "execution_count": null,
      "outputs": [
        {
          "output_type": "execute_result",
          "data": {
            "text/plain": [
              "'spamspamspam'"
            ],
            "application/vnd.google.colaboratory.intrinsic+json": {
              "type": "string"
            }
          },
          "metadata": {},
          "execution_count": 5
        }
      ]
    },
    {
      "cell_type": "code",
      "source": [
        "# 8. Why is eggs a valid variable name while 100 is invalid?\n",
        "\n",
        "# Ans: Eggs a valid variable it is starting with a character which is valid and 100 is invalid because a variable name cannot begin with a number."
      ],
      "metadata": {
        "id": "FwWLyLbG_2oa"
      },
      "execution_count": 1,
      "outputs": []
    },
    {
      "cell_type": "code",
      "source": [],
      "metadata": {
        "id": "zzWoOHiWAEn3"
      },
      "execution_count": null,
      "outputs": []
    },
    {
      "cell_type": "code",
      "source": [
        "# 9. What three functions can be used to get the integer, floating-point number, or string version of a value?\n",
        "\n",
        "# Ans: The int() , float() , and str( ) functions will evaluate to the integer, floating-point number, and string versions of the value passed to them.\n",
        " "
      ],
      "metadata": {
        "id": "YevRF9i4B9Mx"
      },
      "execution_count": null,
      "outputs": []
    },
    {
      "cell_type": "code",
      "source": [
        "# 10. Why does this expression cause an error? How can you fix it?\n",
        "\n",
        "'I have eaten ' + 99 + ' burritos.'\n",
        "\n",
        "\n",
        "# Ans: Because here the datatype of 99 is int and we need it to be a str(string) so that it can concatenate. \n",
        "# To fix it we must convert the int datatype to str datatype by putting \"\""
      ],
      "metadata": {
        "id": "iwI4cNmPGmo2"
      },
      "execution_count": 4,
      "outputs": []
    },
    {
      "cell_type": "code",
      "source": [
        "'I have eaten ' + \"99\" + ' burritos.' # <<<<< Solution"
      ],
      "metadata": {
        "colab": {
          "base_uri": "https://localhost:8080/",
          "height": 36
        },
        "id": "48juwIfvGoch",
        "outputId": "aa077e8f-46bb-43aa-bea6-16125999a50e"
      },
      "execution_count": 5,
      "outputs": [
        {
          "output_type": "execute_result",
          "data": {
            "text/plain": [
              "'I have eaten 99 burritos.'"
            ],
            "application/vnd.google.colaboratory.intrinsic+json": {
              "type": "string"
            }
          },
          "metadata": {},
          "execution_count": 5
        }
      ]
    },
    {
      "cell_type": "code",
      "source": [],
      "metadata": {
        "id": "YMAtz30lHqCG"
      },
      "execution_count": null,
      "outputs": []
    }
  ]
}