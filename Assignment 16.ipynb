{
 "cells": [
  {
   "cell_type": "code",
   "execution_count": 1,
   "id": "66776d57",
   "metadata": {},
   "outputs": [
    {
     "data": {
      "text/plain": [
       "[1997, 1998, 1999, 2000, 2001, 2002]"
      ]
     },
     "execution_count": 1,
     "metadata": {},
     "output_type": "execute_result"
    }
   ],
   "source": [
    "# 1. Create a list called years_list, starting with the year of your birth, and each year thereafter until\n",
    "# the year of your fifth birthday. For example, if you were born in 1980. the list would be years_list =\n",
    "# [1980, 1981, 1982, 1983, 1984, 1985].\n",
    "\n",
    "# Ans: \n",
    "\n",
    "\n",
    "\n",
    "years_list = [i for i in range(1997,1997+6)]\n",
    "years_list\n",
    "     "
   ]
  },
  {
   "cell_type": "code",
   "execution_count": 2,
   "id": "979228e5",
   "metadata": {},
   "outputs": [
    {
     "data": {
      "text/plain": [
       "2000"
      ]
     },
     "execution_count": 2,
     "metadata": {},
     "output_type": "execute_result"
    }
   ],
   "source": [
    "# Q. In which year in years_list was your third birthday? Remember, you were 0 years of age for your\n",
    "\n",
    "# Ans: \n",
    "    \n",
    "years_list[3]\n"
   ]
  },
  {
   "cell_type": "code",
   "execution_count": 3,
   "id": "8e308dfe",
   "metadata": {},
   "outputs": [
    {
     "data": {
      "text/plain": [
       "2002"
      ]
     },
     "execution_count": 3,
     "metadata": {},
     "output_type": "execute_result"
    }
   ],
   "source": [
    "# Q.In the years list, which year were you the oldest?\n",
    "\n",
    "# Ans: \n",
    "\n",
    "\n",
    "max(years_list)    "
   ]
  },
  {
   "cell_type": "code",
   "execution_count": 4,
   "id": "c82d46b8",
   "metadata": {},
   "outputs": [
    {
     "data": {
      "text/plain": [
       "['mozzarella', 'cinderella', 'salmonella']"
      ]
     },
     "execution_count": 4,
     "metadata": {},
     "output_type": "execute_result"
    }
   ],
   "source": [
    "# Q. Make a list called things with these three strings as elements: 'mozzarella', 'cinderella','salmonella'.\n",
    "\n",
    "# Ans:\n",
    "\n",
    "\n",
    "\n",
    "things = list(['mozzarella', 'cinderella','salmonella'])\n",
    "things\n",
    "     "
   ]
  },
  {
   "cell_type": "code",
   "execution_count": 5,
   "id": "46493d45",
   "metadata": {},
   "outputs": [
    {
     "name": "stdout",
     "output_type": "stream",
     "text": [
      "Mozzarella\n",
      "Cinderella\n",
      "Salmonella\n"
     ]
    },
    {
     "data": {
      "text/plain": [
       "['mozzarella', 'cinderella', 'salmonella']"
      ]
     },
     "execution_count": 5,
     "metadata": {},
     "output_type": "execute_result"
    }
   ],
   "source": [
    "# Q. Capitalize the element in things that refers to a person and then print the list. Did it change the element in the list?\n",
    "\n",
    "# Ans: \n",
    "\n",
    "\n",
    "for i in things:\n",
    "    print(i.capitalize())\n",
    "things\n",
    "#Capitalize() will not update the list original values."
   ]
  },
  {
   "cell_type": "code",
   "execution_count": 6,
   "id": "226f81da",
   "metadata": {},
   "outputs": [
    {
     "data": {
      "text/plain": [
       "['Groucho', 'Chico', 'Harpo']"
      ]
     },
     "execution_count": 6,
     "metadata": {},
     "output_type": "execute_result"
    }
   ],
   "source": [
    "# Q. Make a surprise list with the elements \"Groucho\", \"Chico\", and \"Harpo\"\n",
    "\n",
    "# Ans: \n",
    "\n",
    "\n",
    "surprise_list = [\"Groucho\", \"Chico\", \"Harpo\"]\n",
    "surprise_list"
   ]
  },
  {
   "cell_type": "code",
   "execution_count": 8,
   "id": "81a386d3",
   "metadata": {},
   "outputs": [
    {
     "data": {
      "text/plain": [
       "'harpo'"
      ]
     },
     "execution_count": 8,
     "metadata": {},
     "output_type": "execute_result"
    }
   ],
   "source": [
    "# Q. Lowercase the last element of the surprise list, reverse it, and then capitalize it.\n",
    "\n",
    "# Ans: \n",
    "\n",
    "\n",
    "surprise_list[-1].lower()\n"
   ]
  },
  {
   "cell_type": "code",
   "execution_count": 9,
   "id": "d3fe3e5a",
   "metadata": {},
   "outputs": [
    {
     "data": {
      "text/plain": [
       "'opraH'"
      ]
     },
     "execution_count": 9,
     "metadata": {},
     "output_type": "execute_result"
    }
   ],
   "source": [
    "surprise_list[-1][::-1]\n"
   ]
  },
  {
   "cell_type": "code",
   "execution_count": 10,
   "id": "1734dfb2",
   "metadata": {},
   "outputs": [
    {
     "data": {
      "text/plain": [
       "'OPRAH'"
      ]
     },
     "execution_count": 10,
     "metadata": {},
     "output_type": "execute_result"
    }
   ],
   "source": [
    "surprise_list[-1][::-1].upper()"
   ]
  },
  {
   "cell_type": "code",
   "execution_count": 14,
   "id": "ba4c7495",
   "metadata": {},
   "outputs": [
    {
     "data": {
      "text/plain": [
       "{'dog': 'chien', 'cat': 'chat', 'walrus': 'morse'}"
      ]
     },
     "execution_count": 14,
     "metadata": {},
     "output_type": "execute_result"
    }
   ],
   "source": [
    "# Q. Make an English-to-French dictionary called e2f and print it. Here are your starter words: dog is chien, cat is chat, and walrus is morse.\n",
    "\n",
    "# Ans:\n",
    "\n",
    "\n",
    "e2f = {'dog':'chien','cat':'chat','walrus':'morse'}\n",
    "e2f"
   ]
  },
  {
   "cell_type": "code",
   "execution_count": 16,
   "id": "57291c55",
   "metadata": {},
   "outputs": [
    {
     "data": {
      "text/plain": [
       "'morse'"
      ]
     },
     "execution_count": 16,
     "metadata": {},
     "output_type": "execute_result"
    }
   ],
   "source": [
    "# Q. Write the French word for walrus in your three-word dictionary e2f\n",
    "\n",
    "# Ans: \n",
    "\n",
    "e2f['walrus']"
   ]
  },
  {
   "cell_type": "code",
   "execution_count": 17,
   "id": "574e4b80",
   "metadata": {},
   "outputs": [
    {
     "data": {
      "text/plain": [
       "{'chien': 'dog', 'chat': 'cat', 'morse': 'walrus'}"
      ]
     },
     "execution_count": 17,
     "metadata": {},
     "output_type": "execute_result"
    }
   ],
   "source": [
    "# Q. Make a French-to-English dictionary called f2e from e2f. Use the items method\n",
    "\n",
    "# Ans: \n",
    "    \n",
    "\n",
    "f2e = dict((key,value) for value,key in e2f.items())\n",
    "f2e"
   ]
  },
  {
   "cell_type": "code",
   "execution_count": 18,
   "id": "63b4549e",
   "metadata": {},
   "outputs": [
    {
     "data": {
      "text/plain": [
       "'dog'"
      ]
     },
     "execution_count": 18,
     "metadata": {},
     "output_type": "execute_result"
    }
   ],
   "source": [
    "# Q. Print the English version of the French word chien using f2e.\n",
    "\n",
    "# Ans: \n",
    "\n",
    "\n",
    "f2e['chien']"
   ]
  },
  {
   "cell_type": "code",
   "execution_count": 19,
   "id": "2114a6db",
   "metadata": {},
   "outputs": [
    {
     "data": {
      "text/plain": [
       "dict_keys(['dog', 'cat', 'walrus'])"
      ]
     },
     "execution_count": 19,
     "metadata": {},
     "output_type": "execute_result"
    }
   ],
   "source": [
    "# Q. Make and print a set of English words from the keys in e2f.\n",
    "\n",
    "# Ans: \n",
    "\n",
    "e2f.keys()"
   ]
  },
  {
   "cell_type": "code",
   "execution_count": 20,
   "id": "89f3d050",
   "metadata": {},
   "outputs": [
    {
     "data": {
      "text/plain": [
       "{'animals': {'cat': ['Henri', 'Grumpy', 'Lucy'], 'octopi': '', 'emus': ''},\n",
       " 'plants': '',\n",
       " 'other': ''}"
      ]
     },
     "execution_count": 20,
     "metadata": {},
     "output_type": "execute_result"
    }
   ],
   "source": [
    "# Q. Make a multilevel dictionary called life. Use these strings for the topmost keys: 'animals', 'plants', and \n",
    "# 'other'. Make the 'animals' key refer to another dictionary with the keys 'cats', 'octopi', and 'emus'. Make the \n",
    "# 'cats' key refer to a list of strings with the values 'Henri', 'Grumpy', and 'Lucy'. Make all the other keys \n",
    "# refer to empty dictionaries.\n",
    "\n",
    "# Ans: \n",
    "life ={'animals':{'cat':['Henri', 'Grumpy', 'Lucy'], 'octopi':'', 'emus':''},\n",
    "       'plants' :'',\n",
    "       'other' :'' }\n",
    "life"
   ]
  },
  {
   "cell_type": "code",
   "execution_count": 21,
   "id": "0f54254d",
   "metadata": {},
   "outputs": [
    {
     "data": {
      "text/plain": [
       "dict_keys(['animals', 'plants', 'other'])"
      ]
     },
     "execution_count": 21,
     "metadata": {},
     "output_type": "execute_result"
    }
   ],
   "source": [
    "# Q. Print the top-level keys of life.\n",
    "\n",
    "# Ans: \n",
    "\n",
    "life.keys()"
   ]
  },
  {
   "cell_type": "code",
   "execution_count": null,
   "id": "79212760",
   "metadata": {},
   "outputs": [],
   "source": [
    "# Q. Print the keys for life['animals'].\n",
    "\n",
    "# Ans: \n",
    "    \n",
    "life['animals'].keys()"
   ]
  },
  {
   "cell_type": "code",
   "execution_count": 22,
   "id": "ade8fdcf",
   "metadata": {},
   "outputs": [
    {
     "data": {
      "text/plain": [
       "['Henri', 'Grumpy', 'Lucy']"
      ]
     },
     "execution_count": 22,
     "metadata": {},
     "output_type": "execute_result"
    }
   ],
   "source": [
    "# Q. Print the values for life['animals']['cat']\n",
    "\n",
    "# Ans: \n",
    "    \n",
    "\n",
    "life['animals']['cat']"
   ]
  },
  {
   "cell_type": "code",
   "execution_count": null,
   "id": "c89e0594",
   "metadata": {},
   "outputs": [],
   "source": []
  }
 ],
 "metadata": {
  "kernelspec": {
   "display_name": "Python 3 (ipykernel)",
   "language": "python",
   "name": "python3"
  },
  "language_info": {
   "codemirror_mode": {
    "name": "ipython",
    "version": 3
   },
   "file_extension": ".py",
   "mimetype": "text/x-python",
   "name": "python",
   "nbconvert_exporter": "python",
   "pygments_lexer": "ipython3",
   "version": "3.9.12"
  }
 },
 "nbformat": 4,
 "nbformat_minor": 5
}
