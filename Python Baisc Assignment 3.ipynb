{
 "cells": [
  {
   "cell_type": "code",
   "execution_count": 1,
   "id": "fb11f1d2",
   "metadata": {},
   "outputs": [],
   "source": [
    "# Quesion 1. Why are functions advantageous to have in your programs?\n",
    "\n",
    "# Ans: A function is almost like a mini-program that we can write separately from the main program, without having to think about\n",
    "# the rest of the program while we write it. This allows us to reduce a complicated program into smaller, more manageable\n",
    "# chunks, which reduces the overall complexity of our program."
   ]
  },
  {
   "cell_type": "code",
   "execution_count": null,
   "id": "325d41e2",
   "metadata": {},
   "outputs": [],
   "source": [
    "# Question 2. When does the code in a function run: when it's specified or when it's called?\n",
    "\n",
    "# Ans:  The code in a function runs when the function is called. \n",
    "\n",
    "\n"
   ]
  },
  {
   "cell_type": "code",
   "execution_count": null,
   "id": "8607cff2",
   "metadata": {},
   "outputs": [],
   "source": [
    "# 3. What statement creates a function?\n",
    "\n",
    "# Ans: A function is created with the def keyword.\n"
   ]
  },
  {
   "cell_type": "code",
   "execution_count": null,
   "id": "e5b561b9",
   "metadata": {},
   "outputs": [],
   "source": [
    "# 4. What is the difference between a function and a function call?\n",
    "\n",
    "# Ans: A function is a block of code that does a particular operation and returns a result. It usually accepts inputs as\n",
    "# parameters and returns a result. The parameters are not mandatory. \n",
    "\n",
    "# A function call is the code used to pass control to a function. "
   ]
  },
  {
   "cell_type": "code",
   "execution_count": null,
   "id": "01263677",
   "metadata": {},
   "outputs": [],
   "source": [
    "# 5. How many global scopes are there in a Python program? How many local scopes?\n",
    "\n",
    "# Ans: Variables that are defined inside a function body have a local scope and those defined outside have a global scope.\n",
    "# At any given time during execution, we have at most four active Python scopes: local, enclosing, global, and \n",
    "# built-in—depending.\n",
    "    \n"
   ]
  },
  {
   "cell_type": "code",
   "execution_count": null,
   "id": "e904b07f",
   "metadata": {},
   "outputs": [],
   "source": [
    "# 6. What happens to variables in a local scope when the function call returns?\n",
    "\n",
    "# Ans: Local variables are created when a function starts, and deleted when the function is completed."
   ]
  },
  {
   "cell_type": "code",
   "execution_count": null,
   "id": "643300fe",
   "metadata": {},
   "outputs": [],
   "source": [
    "# 7. What is the concept of a return value? Is it possible to have a return value in an expression?\n",
    "\n",
    "# Ans: A return is a value that a function returns to the calling script or function when it completes its task. A \n",
    "# return value can be any one of the four variabl types: handle, integer, object or string.\n",
    "\n",
    "# Yes, it's possible to have a return value in an expression. A value-returning function should include a return statment,\n",
    "# containing an expression.\n",
    "\n",
    "\n"
   ]
  },
  {
   "cell_type": "code",
   "execution_count": null,
   "id": "e2bc765a",
   "metadata": {},
   "outputs": [],
   "source": [
    "# 8. If a function does not have a return statement, what is the return value of a call to that function?\n",
    "\n",
    "# If a function deos not have a return statment, the return value of a call to that function is undefined.\n",
    "\n",
    "    "
   ]
  },
  {
   "cell_type": "code",
   "execution_count": 1,
   "id": "0ad7a31a",
   "metadata": {},
   "outputs": [],
   "source": [
    "# 9. How do you make a function variable refer to the global variable?\n",
    "\n",
    "# We can make a funciton variable refer to the global variable by using global keyword."
   ]
  },
  {
   "cell_type": "code",
   "execution_count": null,
   "id": "9365cced",
   "metadata": {},
   "outputs": [],
   "source": [
    "# 10. What is the data type of None?\n",
    "\n",
    "# The None keyword is used to define a null value or no value at all. None is not the same as 0, False or an empty string.\n",
    "# None is a data type of its own (None Type) and only None can be None.\n",
    "\n"
   ]
  },
  {
   "cell_type": "code",
   "execution_count": null,
   "id": "29b5857e",
   "metadata": {},
   "outputs": [],
   "source": [
    "# 11. What does the sentence import areallyourpetsnamederic do?\n",
    "\n",
    "Ans: It imports a module named areallyourpetsnamederic."
   ]
  },
  {
   "cell_type": "code",
   "execution_count": 2,
   "id": "6f7e6dc0",
   "metadata": {},
   "outputs": [],
   "source": [
    "# 12. If you had a bacon() feature in a spam module, what would you call it after importing spam?\n",
    "\n",
    "# Ans: spam.bacon()"
   ]
  },
  {
   "cell_type": "code",
   "execution_count": null,
   "id": "f1cf46ac",
   "metadata": {},
   "outputs": [],
   "source": [
    "# 13. What can you do to save a programme from crashing if it encounters an error?\n",
    "\n",
    "# We can do the following to save a programme from crashing if it encounters an error.\n",
    "\n",
    "# 1: Having the program display an error instead of immediately crashing will save a lot of time when debugging errorss.\n",
    "# 2: If the program crashes due to bad input, the error handler could notify the user of why the error occurred \n",
    "# and define the requirements and constraints of the program.\n",
    "\n"
   ]
  },
  {
   "cell_type": "code",
   "execution_count": null,
   "id": "36c4acfe",
   "metadata": {},
   "outputs": [],
   "source": [
    "# 14. What is the purpose of the try clause? What is the purpose of the except clause?\n",
    "\n",
    "# The try block lets you test a block of code for errors and on the other hand the except block lets you handle the error. "
   ]
  },
  {
   "cell_type": "code",
   "execution_count": null,
   "id": "5b747268",
   "metadata": {},
   "outputs": [],
   "source": []
  },
  {
   "cell_type": "code",
   "execution_count": null,
   "id": "3624220e",
   "metadata": {},
   "outputs": [],
   "source": []
  },
  {
   "cell_type": "code",
   "execution_count": null,
   "id": "8333591e",
   "metadata": {},
   "outputs": [],
   "source": []
  },
  {
   "cell_type": "code",
   "execution_count": null,
   "id": "5c9f3cf0",
   "metadata": {},
   "outputs": [],
   "source": []
  }
 ],
 "metadata": {
  "kernelspec": {
   "display_name": "Python 3 (ipykernel)",
   "language": "python",
   "name": "python3"
  },
  "language_info": {
   "codemirror_mode": {
    "name": "ipython",
    "version": 3
   },
   "file_extension": ".py",
   "mimetype": "text/x-python",
   "name": "python",
   "nbconvert_exporter": "python",
   "pygments_lexer": "ipython3",
   "version": "3.9.12"
  }
 },
 "nbformat": 4,
 "nbformat_minor": 5
}
