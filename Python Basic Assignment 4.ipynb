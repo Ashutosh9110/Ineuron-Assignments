{
 "cells": [
  {
   "cell_type": "code",
   "execution_count": 1,
   "id": "22152dbd",
   "metadata": {},
   "outputs": [],
   "source": [
    "# 1. What exactly is []?\n",
    "\n",
    "# Ans: These are called the Index Brackets. It is used to define list literals allowing you to declare a list and its content\n",
    "# in the programs. They are also used to write expressions that evaluate to a single item within a list or single character\n",
    "# in a string"
   ]
  },
  {
   "cell_type": "code",
   "execution_count": 2,
   "id": "5753c828",
   "metadata": {},
   "outputs": [
    {
     "data": {
      "text/plain": [
       "['a', 'b', 'hello', 'd']"
      ]
     },
     "execution_count": 2,
     "metadata": {},
     "output_type": "execute_result"
    }
   ],
   "source": [
    "# 2. In a list of values stored in a variable called spam, how would you assign the value 'hello' as the third value? \n",
    "# (Assume [2, 4, 6, 8, 10] are in spam.)\n",
    "# Let's pretend the spam includes the list ['a', 'b', 'c', 'd'] for the next three queries.\n",
    "\n",
    "spam = ['a', 'b', 'c', 'd']\n",
    "spam[2] = \"hello\"\n",
    "spam"
   ]
  },
  {
   "cell_type": "code",
   "execution_count": 4,
   "id": "83fc3e1b",
   "metadata": {},
   "outputs": [
    {
     "data": {
      "text/plain": [
       "'d'"
      ]
     },
     "execution_count": 4,
     "metadata": {},
     "output_type": "execute_result"
    }
   ],
   "source": [
    "# 3. What is the value of spam[int(int('3' * 2) / 11)]?\n",
    "\n",
    "# Ans: \n",
    "spam[int(int('3' * 2) / 11)]"
   ]
  },
  {
   "cell_type": "code",
   "execution_count": 5,
   "id": "434a5e1d",
   "metadata": {},
   "outputs": [
    {
     "data": {
      "text/plain": [
       "'d'"
      ]
     },
     "execution_count": 5,
     "metadata": {},
     "output_type": "execute_result"
    }
   ],
   "source": [
    "# 4. What is the value of spam[-1]?\n",
    "spam[-1]"
   ]
  },
  {
   "cell_type": "code",
   "execution_count": 6,
   "id": "7b9b8f23",
   "metadata": {},
   "outputs": [
    {
     "data": {
      "text/plain": [
       "['a', 'b']"
      ]
     },
     "execution_count": 6,
     "metadata": {},
     "output_type": "execute_result"
    }
   ],
   "source": [
    "# 5: What is the value of spam[:2]?\n",
    "spam[:2]\n",
    "bacon\n"
   ]
  },
  {
   "cell_type": "code",
   "execution_count": 22,
   "id": "bd05d314",
   "metadata": {},
   "outputs": [
    {
     "data": {
      "text/plain": [
       "[3.14, 'cat', 11, 'cat', True]"
      ]
     },
     "execution_count": 22,
     "metadata": {},
     "output_type": "execute_result"
    }
   ],
   "source": [
    "# Let's pretend bacon has the list [3.14, 'cat,' 11, 'cat,' True] for the next three questions.\n",
    "bacon = [3.14, 'cat', 11, 'cat', True] \n",
    "bacon\n",
    "\n"
   ]
  },
  {
   "cell_type": "code",
   "execution_count": 25,
   "id": "77d15aac",
   "metadata": {},
   "outputs": [
    {
     "data": {
      "text/plain": [
       "1"
      ]
     },
     "execution_count": 25,
     "metadata": {},
     "output_type": "execute_result"
    }
   ],
   "source": [
    "# 6. What is the value of bacon.index('cat')?\n",
    "# Ans: \n",
    "bacon.index('cat')\n"
   ]
  },
  {
   "cell_type": "code",
   "execution_count": 46,
   "id": "300e9715",
   "metadata": {},
   "outputs": [
    {
     "name": "stdout",
     "output_type": "stream",
     "text": [
      "[3.14, 11, True]\n"
     ]
    },
    {
     "data": {
      "text/plain": [
       "[3.14, 11, True, 99]"
      ]
     },
     "execution_count": 46,
     "metadata": {},
     "output_type": "execute_result"
    }
   ],
   "source": [
    "# 7: How does bacon.append(99) change the look of the list value in bacon?\n",
    "\n",
    "# Ans :\n",
    "print(bacon)\n",
    "bacon.append(99)\n",
    "bacon"
   ]
  },
  {
   "cell_type": "code",
   "execution_count": 47,
   "id": "47b713f3",
   "metadata": {},
   "outputs": [
    {
     "name": "stdout",
     "output_type": "stream",
     "text": [
      "[3.14, 11, True, 99]\n"
     ]
    },
    {
     "data": {
      "text/plain": [
       "[3.14, 11, True]"
      ]
     },
     "execution_count": 47,
     "metadata": {},
     "output_type": "execute_result"
    }
   ],
   "source": [
    "# 8. How does bacon.remove('cat') change the look of the list in bacon?\n",
    "\n",
    "print(bacon)\n",
    "bacon.remove(99)\n",
    "bacon"
   ]
  },
  {
   "cell_type": "code",
   "execution_count": null,
   "id": "92551ceb",
   "metadata": {},
   "outputs": [],
   "source": [
    "# 9. What are the list concatenation and list replication operators?\n",
    "\n",
    "# List Concatenation is an operation where the elements of one list are added at the end of another list.\n",
    "\n",
    "# List replication: It replicates the elements in the list.\n"
   ]
  },
  {
   "cell_type": "code",
   "execution_count": null,
   "id": "737c5c4a",
   "metadata": {},
   "outputs": [],
   "source": [
    "# 10. What is difference between the list methods append() and insert()?\n",
    "\n",
    "# The differene between append()"
   ]
  },
  {
   "cell_type": "code",
   "execution_count": null,
   "id": "1bbfc3b6",
   "metadata": {},
   "outputs": [],
   "source": [
    "# 11. What are the two methods for removing items from a list?\n",
    "\n",
    "\n",
    "# The methods are remove(), pop() and clear()."
   ]
  },
  {
   "cell_type": "code",
   "execution_count": 48,
   "id": "606ddfbb",
   "metadata": {},
   "outputs": [],
   "source": [
    "# 12. Describe how list values and string values are identical.\n",
    "\n",
    "# Ans: The similarity between List an String in Python is that both are sequences. Another similarity is that they both \n",
    "# have lengths. A length of a string is the number of character in the string and a length of a list is the number of items\n",
    "# in the list"
   ]
  },
  {
   "cell_type": "code",
   "execution_count": 50,
   "id": "077e9534",
   "metadata": {},
   "outputs": [],
   "source": [
    "# 13. What's the difference between tuples and lists?\n",
    "\n",
    "\n",
    "# The list is dynamic where as tuple has a static characteristic. It means that list can be modified whereas tuples cannot\n",
    "# be modified. Also, the tuple is faster than the list because of static in nature.\n"
   ]
  },
  {
   "cell_type": "code",
   "execution_count": 53,
   "id": "754cc05f",
   "metadata": {},
   "outputs": [
    {
     "data": {
      "text/plain": [
       "(42,)"
      ]
     },
     "execution_count": 53,
     "metadata": {},
     "output_type": "execute_result"
    }
   ],
   "source": [
    "# 14. How do you type a tuple value that only contains the integer 42?\n",
    "# Ans: \n",
    "(42,)"
   ]
  },
  {
   "cell_type": "code",
   "execution_count": null,
   "id": "7da57478",
   "metadata": {},
   "outputs": [],
   "source": [
    "# 15. How do you get a list value's tuple form? How do you get a tuple value's list form?\n",
    "\n",
    "# Ans: We can get a list value's tuple form via tuple() and tuple value's list form via list() "
   ]
  },
  {
   "cell_type": "code",
   "execution_count": null,
   "id": "6d330112",
   "metadata": {},
   "outputs": [],
   "source": [
    "# 16. Variables that \"contain\" list values are not necessarily lists themselves. Instead, what do they contain?\n",
    "\n",
    "# Ans: They contain references to list values."
   ]
  },
  {
   "cell_type": "code",
   "execution_count": null,
   "id": "1b7356ba",
   "metadata": {},
   "outputs": [],
   "source": [
    "# 17. How do you distinguish between copy.copy() and copy.deepcopy()?\n",
    "\n",
    "# Ans: The copy.copy() function will do a shallow copy of a list, while the copy.deepcopy() function will do a deep copy\n",
    "# of a list. Only copy.deepcopy() will duplicate any list inside a list."
   ]
  }
 ],
 "metadata": {
  "kernelspec": {
   "display_name": "Python 3 (ipykernel)",
   "language": "python",
   "name": "python3"
  },
  "language_info": {
   "codemirror_mode": {
    "name": "ipython",
    "version": 3
   },
   "file_extension": ".py",
   "mimetype": "text/x-python",
   "name": "python",
   "nbconvert_exporter": "python",
   "pygments_lexer": "ipython3",
   "version": "3.9.12"
  }
 },
 "nbformat": 4,
 "nbformat_minor": 5
}
