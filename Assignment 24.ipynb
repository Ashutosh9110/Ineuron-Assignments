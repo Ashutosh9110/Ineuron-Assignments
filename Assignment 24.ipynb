{
 "cells": [
  {
   "cell_type": "code",
   "execution_count": null,
   "id": "b32d091e",
   "metadata": {},
   "outputs": [],
   "source": [
    "1. What is the relationship between def statements and lambda expressions ?\n",
    "\n",
    "Ans: Both lambda and def create function objects to be called later. Because lambda is an\n",
    "expression, though, it returns a function object instead of assigning it to a name,\n",
    "and it can be used to nest a function definition in places where a def will not work\n",
    "syntactically. A lambda only allows for a single implicit return value expression,\n",
    "though; because it does not support a block of statements, it is not ideal for larger\n",
    "functions."
   ]
  },
  {
   "cell_type": "code",
   "execution_count": null,
   "id": "6c98fab0",
   "metadata": {},
   "outputs": [],
   "source": [
    "2. What is the benefit of lambda?\n",
    "\n",
    "Ans: Lambdas allow us to â€œinlineâ€ small units of executable code, defer its execution, and\n",
    "provide it with state in the form of default arguments and enclosing scope variables.\n",
    "Using a lambda is never required; you can always code a def instead and reference\n",
    "the function by name. lambdas come in handy, though, to embed small pieces of\n",
    "deferred code that are unlikely to be used elsewhere in a program. They commonly\n",
    "appear in callback-based program such as GUIs, and they have a natural affinity\n",
    "with function tools like map and filter that expect a processing function.\n"
   ]
  },
  {
   "cell_type": "code",
   "execution_count": null,
   "id": "6d10be8d",
   "metadata": {},
   "outputs": [],
   "source": [
    "3. Compare and contrast map, filter, and reduce.\n",
    "\n",
    "Ans: These three built-in functions all apply another function to items in a sequence\n",
    "(iterable) object and collect results. map passes each item to the function and collects\n",
    "all results, filter collects items for which the function returns a True value, and\n",
    "reduce computes a single value by applying the function to an accumulator and\n",
    "successive items. Unlike the other two, reduce is available in the functools module\n",
    "in 3.0, not the built-in scope."
   ]
  },
  {
   "cell_type": "code",
   "execution_count": null,
   "id": "6c4482af",
   "metadata": {},
   "outputs": [],
   "source": [
    "4. What are function annotations, and how are they used?\n",
    "\n",
    "Ans:  Function annotations, available in 3.0 and later, are syntactic embellishments of a\n",
    "functionâ€™s arguments and result, which are collected into a dictionary assigned to\n",
    "the functionâ€™s __annotations__ attribute. Python places no semantic meaning on\n",
    "these annotations, but simply packages them for potential use by other tools.\n"
   ]
  },
  {
   "cell_type": "code",
   "execution_count": null,
   "id": "817da7e7",
   "metadata": {},
   "outputs": [],
   "source": [
    "5. What are recursive functions, and how are they used?\n",
    "\n",
    "Ans: Recursive functions call themselves either directly or indirectly in order to loop.\n",
    "They may be used to traverse arbitrarily shaped structures, but they can also be\n",
    "used for iteration in general (though the latter role is often more simply and effi-\n",
    "ciently coded with looping statements)."
   ]
  },
  {
   "cell_type": "code",
   "execution_count": null,
   "id": "29c1ff6f",
   "metadata": {},
   "outputs": [],
   "source": [
    "6. What are some general design guidelines for coding functions?\n",
    "\n",
    "Ans: Functions should generally be small, as self-contained as possible, have a single\n",
    "unified purpose, and communicate with other components through input argu-\n",
    "ments and return values. They may use mutable arguments to communicate results\n",
    "too if changes are expected, and some types of programs imply other communi-\n",
    "cation mechanisms."
   ]
  }
 ],
 "metadata": {
  "kernelspec": {
   "display_name": "Python 3 (ipykernel)",
   "language": "python",
   "name": "python3"
  },
  "language_info": {
   "codemirror_mode": {
    "name": "ipython",
    "version": 3
   },
   "file_extension": ".py",
   "mimetype": "text/x-python",
   "name": "python",
   "nbconvert_exporter": "python",
   "pygments_lexer": "ipython3",
   "version": "3.9.12"
  }
 },
 "nbformat": 4,
 "nbformat_minor": 5
}
