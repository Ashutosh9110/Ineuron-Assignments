{
 "cells": [
  {
   "cell_type": "code",
   "execution_count": null,
   "id": "005f7a85",
   "metadata": {},
   "outputs": [],
   "source": [
    "1. What is the name of the feature responsible for generating Regex objects?\n",
    "\n",
    "Ans: The re.compile() function returns Regex objects."
   ]
  },
  {
   "cell_type": "code",
   "execution_count": null,
   "id": "e669b11c",
   "metadata": {},
   "outputs": [],
   "source": [
    "2. Why do raw strings often appear in Regex objects?\n",
    "\n",
    "Ans: Raw strings appear so that backslashes do not have to be escaped."
   ]
  },
  {
   "cell_type": "code",
   "execution_count": null,
   "id": "989c5e19",
   "metadata": {},
   "outputs": [],
   "source": [
    "3. What is the return value of the search() method?\n",
    "\n",
    "Ans: Match objects."
   ]
  },
  {
   "cell_type": "code",
   "execution_count": null,
   "id": "e7b0a99e",
   "metadata": {},
   "outputs": [],
   "source": [
    "4. From a Match item, how do you get the actual strings that match the pattern?\n",
    "\n",
    "Ans: The group() method returns strings of the matched text."
   ]
  },
  {
   "cell_type": "code",
   "execution_count": null,
   "id": "eaf4ac7a",
   "metadata": {},
   "outputs": [],
   "source": [
    "5. In the regex which created from the r'(\\d\\d\\d)-(\\d\\d\\d-\\d\\d\\d\\d)', what does group zero cover?\n",
    "\n",
    "Group 2? Group 1?\n",
    "\n",
    "Ans: Group zero is the entire match, group 1 covers the first set of parentheses, and group 2 covers the second \n",
    "set of parentheses.\n"
   ]
  },
  {
   "cell_type": "code",
   "execution_count": null,
   "id": "c694aae8",
   "metadata": {},
   "outputs": [],
   "source": [
    "6. In standard expression syntax, parentheses and intervals have distinct meanings. How can you tell\n",
    "a regex that you want it to fit real parentheses and periods?\n",
    "\n",
    "Ans : Periods and parentheses can be escaped with a backslash: \\., \\(, and \\)."
   ]
  },
  {
   "cell_type": "code",
   "execution_count": null,
   "id": "c172f6e1",
   "metadata": {},
   "outputs": [],
   "source": [
    "7. The findall() method returns a string list or a list of string tuples. What causes it to return one of\n",
    "the two options?\n",
    "\n",
    "Ans: If the regex has no groups, a list of strings is returned. If the regex has groups, a list of tuples \n",
    "of strings is returned."
   ]
  },
  {
   "cell_type": "code",
   "execution_count": null,
   "id": "13589005",
   "metadata": {},
   "outputs": [],
   "source": [
    "8. In standard expressions, what does the | character mean?\n",
    "\n",
    "Ans: The | character signifies matching \"either, or\" between two groups."
   ]
  },
  {
   "cell_type": "code",
   "execution_count": null,
   "id": "0be3a96c",
   "metadata": {},
   "outputs": [],
   "source": [
    "9. In regular expressions, what does the character stand for?\n",
    "\n",
    "Ans: The character can either mean \"match zero or one of the preceding group\" or be used to signify \n",
    "nongreedy matching.\n"
   ]
  },
  {
   "cell_type": "code",
   "execution_count": null,
   "id": "9c9a4d7a",
   "metadata": {},
   "outputs": [],
   "source": [
    "10.In regular expressions, what is the difference between the + and * characters?\n",
    "\n",
    "Ans: The + matches one or more. The * matches zero or more."
   ]
  },
  {
   "cell_type": "code",
   "execution_count": null,
   "id": "de789dde",
   "metadata": {},
   "outputs": [],
   "source": [
    "11. What is the difference between {4} and {4,5} in regular expression?\n",
    "Ans: The {4} matches exactly four instances of the preceding group. The {4,5} matches between four and five instances."
   ]
  },
  {
   "cell_type": "code",
   "execution_count": null,
   "id": "e5e30230",
   "metadata": {},
   "outputs": [],
   "source": [
    "12. What do you mean by the \\d, \\w, and \\s shorthand character classes signify in regular\n",
    "expressions?\n",
    "\n",
    "Ans: The \\d, \\w, and \\s shorthand character classes match a single digit, word, or space character, respectively."
   ]
  },
  {
   "cell_type": "code",
   "execution_count": null,
   "id": "1dc62102",
   "metadata": {},
   "outputs": [],
   "source": [
    "13. What do means by \\D, \\W, and \\S shorthand character classes signify in regular expressions?\n",
    "\n",
    "Ans: The \\d, \\w, and \\s shorthand character classes match a single digit, word, or space character, respectively."
   ]
  },
  {
   "cell_type": "code",
   "execution_count": null,
   "id": "c81f3249",
   "metadata": {},
   "outputs": [],
   "source": [
    "14. What is the difference between .*? and .*?\n",
    "\n",
    "Ans: The . performs a greedy match, and the .? performs a nongreedy match."
   ]
  },
  {
   "cell_type": "code",
   "execution_count": null,
   "id": "aaffb594",
   "metadata": {},
   "outputs": [],
   "source": [
    "15. What is the syntax for matching both numbers and lowercase letters with a character class?\n",
    "\n",
    "Ans: Either [0-9a-z] or [a-z0-9]"
   ]
  },
  {
   "cell_type": "code",
   "execution_count": null,
   "id": "e5fbc285",
   "metadata": {},
   "outputs": [],
   "source": [
    "16. What is the procedure for making a normal expression in regax case insensitive?\n",
    "\n",
    "Ans: Passing re.I or re.IGNORECASE as the second argument to re.compile() will make the matching case insensitive."
   ]
  },
  {
   "cell_type": "code",
   "execution_count": null,
   "id": "0bdfea6d",
   "metadata": {},
   "outputs": [],
   "source": [
    "17. What does the . character normally match? What does it match if re.DOTALL is passed as 2nd\n",
    "argument in re.compile()?\n",
    "\n",
    "Ans: The . character normally matches any character except the newline character. If re.DOTALL is passed as \n",
    "the second argument to re.compile(), then the dot will also match newline character"
   ]
  },
  {
   "cell_type": "code",
   "execution_count": null,
   "id": "c8d761a2",
   "metadata": {},
   "outputs": [],
   "source": [
    "# 18. If numReg = re.compile(r&#39;\\d+&#39;), what will numRegex.sub(&#39;X&#39;, &#39;11 drummers, 10 pipers, five rings, 4\n",
    "# hen&#39;) return?\n",
    "18: If numRegex = re.compile(r'\\d+'), what will numRegex.sub('X', '12 drummers, 11 pipers, five rings, 3 hens') return?\n",
    "\n",
    "Ans: X drummers, X pipers, five rings, X hens"
   ]
  },
  {
   "cell_type": "code",
   "execution_count": null,
   "id": "4449b548",
   "metadata": {},
   "outputs": [],
   "source": [
    "19. What does passing re.VERBOSE as the 2nd argument to re.compile() allow to do?\n",
    "\n",
    "Ans: The re.VERBOSE argument allows you to add whitespace and comments to the string passed to re.compile()."
   ]
  },
  {
   "cell_type": "code",
   "execution_count": null,
   "id": "a1b0aed3",
   "metadata": {},
   "outputs": [],
   "source": [
    "20. How would you write a regex that matches a number with commas for every three digits? It must match the following:\n",
    "'42'\n",
    "'1,234'\n",
    "'6,368,745'\n",
    "but not the following:\n",
    "'12,34,567' (which has only two digits between the commas)\n",
    "'1234' (which lacks commas)\n",
    "\n",
    "Ans: re.compile(r'^\\d{1,3}(,\\d{3})*$') will create this regex, \n",
    "but other regex strings can produce a similar regular expression.\n"
   ]
  },
  {
   "cell_type": "code",
   "execution_count": null,
   "id": "2111bb84",
   "metadata": {},
   "outputs": [],
   "source": [
    "21. How would you write a regex that matches the full name of someone whose last name is Nakamoto? You can assume that the first name that comes before it will always be one word that begins with a capital letter. The regex must match the following:\n",
    "\n",
    "'Satoshi Nakamoto'\n",
    "'Alice Nakamoto'\n",
    "'Robocop Nakamoto'\n",
    "but not the following:\n",
    "'satoshi Nakamoto' (where the first name is not capitalized)\n",
    "'Mr. Nakamoto' (where the preceding word has a nonletter character)\n",
    "'Nakamoto' (which has no first name)\n",
    "'Satoshi nakamoto' (where Nakamoto is not capitalized)\n",
    "\n",
    "Ans: re.compile(r'[A-Z][a-z]*\\sNakamoto')\n"
   ]
  },
  {
   "cell_type": "code",
   "execution_count": null,
   "id": "edb5e919",
   "metadata": {},
   "outputs": [],
   "source": [
    "How would you write a regex that matches a sentence where the first word is either Alice, Bob, or Carol; the second word is either eats, pets, or throws; the third word is apples, cats, or baseballs; and the sentence ends with a period? This regex should be case-insensitive. It must match the following:\n",
    "\n",
    "'Alice eats apples.'\n",
    "'Bob pets cats.'\n",
    "'Carol throws baseballs.'\n",
    "'Alice throws Apples.'\n",
    "'BOB EATS CATS.'\n",
    "but not the following:\n",
    "'Robocop eats apples.'\n",
    "'ALICE THROWS FOOTBALLS.'\n",
    "'Carol eats 7 cats.'\n",
    "\n",
    "Ans: re.compile(r'(Alice|Bob|Carol)\\s(eats|pets|throws)\\s(apples|cats|baseballs)\\.', re.IGNORECASE)"
   ]
  },
  {
   "cell_type": "code",
   "execution_count": null,
   "id": "f598f058",
   "metadata": {},
   "outputs": [],
   "source": []
  },
  {
   "cell_type": "code",
   "execution_count": null,
   "id": "c9e39d11",
   "metadata": {},
   "outputs": [],
   "source": []
  },
  {
   "cell_type": "code",
   "execution_count": null,
   "id": "638a303a",
   "metadata": {},
   "outputs": [],
   "source": []
  },
  {
   "cell_type": "code",
   "execution_count": null,
   "id": "3d727495",
   "metadata": {},
   "outputs": [],
   "source": []
  }
 ],
 "metadata": {
  "kernelspec": {
   "display_name": "Python 3 (ipykernel)",
   "language": "python",
   "name": "python3"
  },
  "language_info": {
   "codemirror_mode": {
    "name": "ipython",
    "version": 3
   },
   "file_extension": ".py",
   "mimetype": "text/x-python",
   "name": "python",
   "nbconvert_exporter": "python",
   "pygments_lexer": "ipython3",
   "version": "3.9.12"
  }
 },
 "nbformat": 4,
 "nbformat_minor": 5
}
