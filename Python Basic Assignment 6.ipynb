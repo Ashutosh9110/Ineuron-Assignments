{
 "cells": [
  {
   "cell_type": "code",
   "execution_count": null,
   "id": "27353c3c",
   "metadata": {},
   "outputs": [],
   "source": [
    "# 1. What are escape characters, and how do you use them?\n",
    "\n",
    "\n",
    "Answer 1: Escape characters or sequences are illegal characters for Python and they never get printed as a part of\n",
    "the output. It allows the program to escape to the next characters.\n",
    "\n",
    "They are used with a backslash \\ followed by the character you want to insert.\n",
    "\n"
   ]
  },
  {
   "cell_type": "code",
   "execution_count": null,
   "id": "67f80f42",
   "metadata": {},
   "outputs": [],
   "source": [
    "# 2: What do the escape characters n and t stand for?\n",
    "\n",
    "Answer 2: \"\\t\" is a tab, \"\\n\" is a newline"
   ]
  },
  {
   "cell_type": "code",
   "execution_count": null,
   "id": "5907cacd",
   "metadata": {},
   "outputs": [],
   "source": [
    "3. What is the way to include backslash characters in a string?\n",
    "\n",
    "Answer 3: To include backslash character in a string, you need to use two backslashes"
   ]
  },
  {
   "cell_type": "code",
   "execution_count": null,
   "id": "932b3358",
   "metadata": {},
   "outputs": [],
   "source": [
    "4. The string \"Howl's Moving Castle\" is a correct value. Why isn't the single quote character in the word Howl's not \n",
    "escaped a problem?\n",
    "\n",
    "Answer 4: Because we have used double quotes to mark the begining and end of the string."
   ]
  },
  {
   "cell_type": "code",
   "execution_count": null,
   "id": "62e76eb6",
   "metadata": {},
   "outputs": [],
   "source": [
    "5. How do you write a string of newlines if you don't want to use the n character?\n",
    "\n",
    "Answer 5: We can use multiline strings to write a string of newlines if we don't want to use the n character."
   ]
  },
  {
   "cell_type": "code",
   "execution_count": null,
   "id": "45ed7f9d",
   "metadata": {},
   "outputs": [],
   "source": [
    "6. What are the values of the given expressions?\n",
    "\n",
    "Answer 6: \n",
    "'Hello, world!'[1] = 'e'\n",
    "'Hello, world!'[0:5] = 'Hello'\n",
    "'Hello, world!'[:5] = 'Hello'\n",
    "'Hello, world!'[3:] = 'lo, world!'\n"
   ]
  },
  {
   "cell_type": "code",
   "execution_count": null,
   "id": "7ca88b1e",
   "metadata": {},
   "outputs": [],
   "source": [
    "7. What are the values of the following expressions?\n",
    "'Hello'.upper()\n",
    "'Hello'.upper().isupper()\n",
    "'Hello'.upper().lower()\n",
    "\n",
    "Answer 7: \n",
    "\n",
    "'Hello'.upper() = 'Hello'\n",
    "'Hello'.upper().isupper() = 'Hello'.upper().isupper()\n",
    "'Hello'.upper().lower() = 'hello'"
   ]
  },
  {
   "cell_type": "code",
   "execution_count": null,
   "id": "df7b7e86",
   "metadata": {},
   "outputs": [],
   "source": [
    "8. What are the values of the following expressions?\n",
    "'Remember, remember, the fifth of July.'.split()\n",
    "'-'.join('There can only one.'.split())\n",
    "\n",
    "Answer 8: \n",
    "'Remember, remember, the fifth of July.'.split() = ['Remember,', 'remember,', 'the', 'fifth', 'of', 'July.']\n",
    "'-'.join('There can only one.'.split()) = 'There-can-only-one.'\n"
   ]
  },
  {
   "cell_type": "code",
   "execution_count": null,
   "id": "b3dd2c0d",
   "metadata": {},
   "outputs": [],
   "source": [
    "9. What are the methods for right-justifying, left-justifying, and centering a string?\n",
    "\n",
    "Answer 8: The rjust(), ljust(), and center() string methods, respectively"
   ]
  },
  {
   "cell_type": "code",
   "execution_count": null,
   "id": "f7614a0e",
   "metadata": {},
   "outputs": [],
   "source": [
    "10. What is the best way to remove whitespace characters from the start or end?\n",
    "Answer: The lstrip() and rstrip() methods can remove whitespace characters from the start or end."
   ]
  },
  {
   "cell_type": "code",
   "execution_count": null,
   "id": "cf794cd3",
   "metadata": {},
   "outputs": [],
   "source": []
  },
  {
   "cell_type": "code",
   "execution_count": null,
   "id": "953101f4",
   "metadata": {},
   "outputs": [],
   "source": []
  },
  {
   "cell_type": "code",
   "execution_count": null,
   "id": "2ee3dd63",
   "metadata": {},
   "outputs": [],
   "source": []
  },
  {
   "cell_type": "code",
   "execution_count": null,
   "id": "fc6d5d31",
   "metadata": {},
   "outputs": [],
   "source": []
  }
 ],
 "metadata": {
  "kernelspec": {
   "display_name": "Python 3 (ipykernel)",
   "language": "python",
   "name": "python3"
  },
  "language_info": {
   "codemirror_mode": {
    "name": "ipython",
    "version": 3
   },
   "file_extension": ".py",
   "mimetype": "text/x-python",
   "name": "python",
   "nbconvert_exporter": "python",
   "pygments_lexer": "ipython3",
   "version": "3.9.12"
  }
 },
 "nbformat": 4,
 "nbformat_minor": 5
}
