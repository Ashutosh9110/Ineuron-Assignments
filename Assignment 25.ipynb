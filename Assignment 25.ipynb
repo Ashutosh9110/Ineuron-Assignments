{
 "cells": [
  {
   "cell_type": "code",
   "execution_count": null,
   "id": "9c581fdd",
   "metadata": {},
   "outputs": [],
   "source": [
    "1) . What is the difference between enclosing a list comprehension in square brackets and\n",
    "parentheses?\n",
    "\n",
    "Ans: 1. List comprehensions in square brackets produce the result list all at once in memory. When they are enclosed\n",
    "in parentheses instead, they are actually generator expressions—they have a similar meaning but do not produce the \n",
    "result list all at once. Instead, generator expressions return a generator object, which yields one item in the\n",
    "result at a time when used in an iteration context.\n",
    "    \n",
    "    \n",
    "    "
   ]
  },
  {
   "cell_type": "code",
   "execution_count": null,
   "id": "463ef02b",
   "metadata": {},
   "outputs": [],
   "source": [
    "2) What is the relationship between generators and iterators?\n",
    "\n",
    "Ans: 2. Generators are iterable objects that support the iteration protocol automatically—they have an iterator \n",
    "with a __next__ method (next in 2.X) that repeatedly advances to the next item in a series of results and raises\n",
    "an exception at the end of the series. In Python, we can code generator functions with def and yield, generator \n",
    "expressions with parenthesized comprehensions, and generator objects with classes that define a special method \n",
    "named __iter__ (discussed later in the book)."
   ]
  },
  {
   "cell_type": "code",
   "execution_count": null,
   "id": "0be313ed",
   "metadata": {},
   "outputs": [],
   "source": [
    "3) What are the signs that a function is a generator function?\n",
    "\n",
    "Ans: 3. A generator function has a yield statement somewhere in its code. Generator functions are otherwise identical \n",
    "to normal functions syntactically, but they are compiled specially by Python so as to return an iterable generator \n",
    "object when called. That object retains state and code location between values."
   ]
  },
  {
   "cell_type": "code",
   "execution_count": null,
   "id": "889829d9",
   "metadata": {},
   "outputs": [],
   "source": [
    "4) What is the purpose of a yield statement?\n",
    "\n",
    "Ans: 4. When present, this statement makes Python compile the function specially as a generator; when called, \n",
    "the function returns a generator object that supports the iteration protocol. When the yield statement is run, \n",
    "it sends a result back to the caller and suspends the function’s state; the function can then be resumed after \n",
    "the last yield statement, in response to a next built-in or __next__ method call issued by the caller. In more \n",
    "advanced roles, the generator send method similarly resumes the generator, but can also pass a value that shows up \n",
    "as the yieldexpression’s value. Generator functions may also have a return statement, which terminates the generator."
   ]
  },
  {
   "cell_type": "code",
   "execution_count": null,
   "id": "7e8d40fb",
   "metadata": {},
   "outputs": [],
   "source": [
    "5) What is the relationship between map calls and list comprehensions? Make a comparison and\n",
    "contrast between the two.\n",
    "\n",
    "Ans: 5. The map call is similar to a list comprehension—both produce a series of values, by collecting the results \n",
    "of applying an operation to each item in a sequence or other iterable, one item at a time. The primary difference \n",
    "is that map applies a function call to each item, and list comprehensions apply arbitrary expressions. Because of this, \n",
    "list comprehensions are more general; they can apply a function call expression like map, but map requires a function \n",
    "to apply other kinds of expressions. List comprehensions also support extended syntax such as nestedfor loops and \n",
    "if clauses that subsume the filter built-in. In Python 3.X, map also differs in that it produces a generator of values; \n",
    "the list comprehension materializes the result list in memory all at once. In 2.X, both tools create result lists."
   ]
  }
 ],
 "metadata": {
  "kernelspec": {
   "display_name": "Python 3 (ipykernel)",
   "language": "python",
   "name": "python3"
  },
  "language_info": {
   "codemirror_mode": {
    "name": "ipython",
    "version": 3
   },
   "file_extension": ".py",
   "mimetype": "text/x-python",
   "name": "python",
   "nbconvert_exporter": "python",
   "pygments_lexer": "ipython3",
   "version": "3.9.12"
  }
 },
 "nbformat": 4,
 "nbformat_minor": 5
}
