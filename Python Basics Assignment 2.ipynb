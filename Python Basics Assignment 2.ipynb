{
 "cells": [
  {
   "cell_type": "code",
   "execution_count": 2,
   "id": "aed43b77",
   "metadata": {},
   "outputs": [],
   "source": [
    "# Question 1:- What are the two values of the Boolean data type? How do you write them?\n",
    "\n",
    "# Ans:- Two values of Boolean data types are True and False (Boolean literals). They are written using capital T and F,\n",
    "# with the rest of the word in lowercase\n"
   ]
  },
  {
   "cell_type": "code",
   "execution_count": 3,
   "id": "6542112b",
   "metadata": {},
   "outputs": [],
   "source": [
    "# Question 2: What are the three different types of Boolean operators?\n",
    "\n",
    "# Ans:- Three different types of Boolean operators are: And, or, Not.\n"
   ]
  },
  {
   "cell_type": "code",
   "execution_count": 4,
   "id": "9e768afa",
   "metadata": {},
   "outputs": [],
   "source": [
    "# Question 3: Make a list of each Boolean operator's truth tables (i.e. every possible combination of Boolean values\n",
    "# for the operator and what it evaluate ).\n",
    "\n",
    "# Ans:- List of Boolean operator's truth tables are as follows:\n",
    "\n",
    "# True and True is True\n",
    "# True and False is False\n",
    "# False and False is False\n",
    "# False and True is False\n",
    "# True or True is True\n",
    "# True or False is True\n",
    "# False or True is False\n",
    "# False or False is False\n",
    "# Not True is False\n",
    "# Not False is True\n"
   ]
  },
  {
   "cell_type": "code",
   "execution_count": null,
   "id": "abde9764",
   "metadata": {},
   "outputs": [],
   "source": [
    "# 4:- What are the values of the following expressions?\n",
    "\n",
    "(5 > 4) and (3 == 5)  => False\n",
    " not (5 > 4) => False\n",
    "(5 > 4) or (3 == 5) => True\n",
    "(5 > 4) or (3 == 5) => True\n",
    "not ((5 > 4) or (3 == 5)) => False\n",
    "(True and True) and (True == False) => False\n",
    "(not False) or (not True) =>True"
   ]
  },
  {
   "cell_type": "code",
   "execution_count": null,
   "id": "8674a9f6",
   "metadata": {},
   "outputs": [],
   "source": [
    "# Question 5: What are the six comparison operators?\n",
    "\n",
    "# Ans:- Following are the six comparision operators:\n",
    "\n",
    "== : Equal to\n",
    "!= : Not equal to\n",
    ">  : Greater than\n",
    "<  : Less than\n",
    ">= : Greater than or equal to\n",
    "<= : Less than or equal to"
   ]
  },
  {
   "cell_type": "code",
   "execution_count": null,
   "id": "6a68642c",
   "metadata": {},
   "outputs": [],
   "source": [
    "# Question 6. How do you tell the difference between the equal to and assignment operators?\n",
    "# Describe a condition and when you would use one.\n",
    "\n",
    "Ans:- == is a equal to operator that compares two values and evaluates to a boolean value.\n",
    "While =  is the assignment operator that stores values in a variable."
   ]
  },
  {
   "cell_type": "code",
   "execution_count": 16,
   "id": "27f59016",
   "metadata": {},
   "outputs": [
    {
     "name": "stdout",
     "output_type": "stream",
     "text": [
      "ham\n",
      "spam\n",
      "spam\n"
     ]
    }
   ],
   "source": [
    "# Question 7: Identify the three blocks in this code:\n",
    "    \n",
    "spam = 0\n",
    "if spam == 10:\n",
    "    print('eggs') # indented block \n",
    "if spam > 5:\n",
    "    print('bacon') # indented block\n",
    "else:\n",
    "    print('ham') # indented block\n",
    "    print('spam') # indented block\n",
    "    print('spam') # indented block\n"
   ]
  },
  {
   "cell_type": "code",
   "execution_count": 22,
   "id": "6f45ff08",
   "metadata": {},
   "outputs": [
    {
     "name": "stdout",
     "output_type": "stream",
     "text": [
      "Greetings!\n"
     ]
    }
   ],
   "source": [
    "# Question 8. Write code that prints Hello if 1 is stored in spam, prints Howdy if 2 is stored in spam, \n",
    "# and prints Greetings! if anything else is stored in spam.\n",
    "\n",
    "spam = spam\n",
    "if spam == 1:\n",
    "    print(\"Hello\")\n",
    "elif spam == 2:\n",
    "    print(\"Howdy\")\n",
    "else:\n",
    "    print(\"Greetings!\")\n",
    "    \n",
    "    "
   ]
  },
  {
   "cell_type": "code",
   "execution_count": 23,
   "id": "f7e64c39",
   "metadata": {},
   "outputs": [],
   "source": [
    "# Question 9.If your programme is stuck in an endless loop, what keys you’ll press?\n",
    "\n",
    "# Ans: CTRL + C"
   ]
  },
  {
   "cell_type": "code",
   "execution_count": null,
   "id": "d3d08737",
   "metadata": {},
   "outputs": [],
   "source": [
    "# Question 10. How can you tell the difference between break and continue?\n",
    "\n",
    "# Ans: The Break statement is used to exit from the loop constructs while the continue statement is not used to exit from \n",
    "# the loop constructs.\n",
    "\n",
    "# When a break statment is encountered then the control statment is exited from the loop construct immediately \n",
    "# whereas when the continue statment is encountered then the control is passed from the begining of the loop statment.\n",
    "\n",
    "# Syntax for break statment is : break and syntax for continue is continue"
   ]
  },
  {
   "cell_type": "code",
   "execution_count": null,
   "id": "6ff9fdcc",
   "metadata": {},
   "outputs": [],
   "source": [
    "# Question 11. In a for loop, what is the difference between range(10), range(0, 10), and range(0, 10, 1)?\n",
    "\n",
    "Ans:- There is no difference among them as they all give same output which is : \n",
    "        \n",
    "0\n",
    "1\n",
    "2\n",
    "3\n",
    "4\n",
    "5\n",
    "6\n",
    "7\n",
    "8\n",
    "9"
   ]
  },
  {
   "cell_type": "code",
   "execution_count": 24,
   "id": "9c9931aa",
   "metadata": {},
   "outputs": [
    {
     "name": "stdout",
     "output_type": "stream",
     "text": [
      "0\n",
      "1\n",
      "2\n",
      "3\n",
      "4\n",
      "5\n",
      "6\n",
      "7\n",
      "8\n",
      "9\n"
     ]
    }
   ],
   "source": [
    "# Question 12. Write a short program that prints the numbers 1 to 10 using a for loop. \n",
    "# Then write an equivalent program that prints the numbers 1 to 10 using a while loop.\n",
    "\n",
    "# Ans 12:\n",
    "\n",
    "for i in range(10):\n",
    "    print(i)"
   ]
  },
  {
   "cell_type": "code",
   "execution_count": 25,
   "id": "0d43ca04",
   "metadata": {},
   "outputs": [
    {
     "name": "stdout",
     "output_type": "stream",
     "text": [
      "0\n",
      "1\n",
      "2\n",
      "3\n",
      "4\n",
      "5\n",
      "6\n",
      "7\n",
      "8\n",
      "9\n"
     ]
    }
   ],
   "source": [
    "# Ans 12: \n",
    "\n",
    "i = 0\n",
    "while i < 10:\n",
    "    print(i)\n",
    "    i = i + 1\n",
    "    \n",
    "    "
   ]
  },
  {
   "cell_type": "code",
   "execution_count": null,
   "id": "8736655c",
   "metadata": {},
   "outputs": [],
   "source": [
    "# Question 13. If you had a function named bacon() inside a module named spam, how would you call it after importing spam?\n",
    "\n",
    "# Ans: spam.bacon()"
   ]
  },
  {
   "cell_type": "code",
   "execution_count": null,
   "id": "7f861a1a",
   "metadata": {},
   "outputs": [],
   "source": []
  }
 ],
 "metadata": {
  "kernelspec": {
   "display_name": "Python 3 (ipykernel)",
   "language": "python",
   "name": "python3"
  },
  "language_info": {
   "codemirror_mode": {
    "name": "ipython",
    "version": 3
   },
   "file_extension": ".py",
   "mimetype": "text/x-python",
   "name": "python",
   "nbconvert_exporter": "python",
   "pygments_lexer": "ipython3",
   "version": "3.9.12"
  }
 },
 "nbformat": 4,
 "nbformat_minor": 5
}
